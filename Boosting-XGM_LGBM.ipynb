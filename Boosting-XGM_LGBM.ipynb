{
 "cells": [
  {
   "cell_type": "markdown",
   "metadata": {},
   "source": [
    "## Problem Statement: \n",
    "\n",
    "**Tennis Australia open is trying to better automate how tennis points get categorized into three outcomes – winners, forced errors and unforced errors.**\n",
    "\n",
    "## Dataset Description:\n",
    "\n",
    "The dataset includes point outcomes of rallies only (where the number of shots hit exceeds two, which represents the serve and return). All points were played at a past Australian Open.\n"
   ]
  },
  {
   "cell_type": "markdown",
   "metadata": {},
   "source": [
    "### Target\n",
    "\n",
    "#### Outcome variable - classes\n",
    "* Winner – the point winning player hits a shot that is not touched by the opponent\n",
    "* Forced error – the point winning player hits a shot that causes the opponent to not be able to return it, i.e. a good shot that is hard to handle\n",
    "* Unforced error – the player attempting to return the ball makes an error on an otherwise normal looking rally shot"
   ]
  },
  {
   "cell_type": "markdown",
   "metadata": {},
   "source": [
    "# Atribute description"
   ]
  },
  {
   "cell_type": "markdown",
   "metadata": {},
   "source": [
    "| Variable | Description| Value Range |\n",
    "| :- | -: | :-: |\n",
    "rally | The number of shots in the point counting serves and point-ending shot | An integer from 1, 2, 3...\n",
    "| serve | A number indicating whether the point was played on a first or second serve.  | 1 = First, 2 = Second\n",
    "| hitpoint | Shot category for point-ending shot | F = Forehand, B = Backhand, V = Volley, U = Unknown\n",
    "| speed | Speed of point-ending shot | Continuous (m/s)\n",
    "| net.clearance | Distance above the net as point-ending shot passed the net | Continuous (cm) distance above net. Can be negative if shot did not pass above the net.\n",
    "| distance.from.sideline | Lateral distance of the point-ending shot bounce from the nearest singles sideline. | Perpendicular distance in meters (always positive even if out)\n",
    "| depth | Distance of the point-ending shot bounce from the baseline | Perpendicular distance in meters\n",
    "(always positive even if out)\n",
    "| outside.sideline | Logical indicator of whether point-ending shot landed outside of the in-play singles sideline | TRUE, FALSE\n",
    "| outside.baseline | Logical indicator of whether point-ending shot landed beyond the in-play baseline | TRUE, FALSE\n",
    "| player.distance.travelled | Distance player who made the point-ending shot travelled between the impact of the penultimate shot and the impact of the point-ending shot | Euclidean distance in meters\n",
    "| player.impact.depth | Distance of player who made point-ending shot from the net at the time the point-ending shot was made | Perpendicular distance along the length of court from net in meters\n",
    "| player.impact.distance.from.center | Distance of player who made point-ending shot from the center line at the time the point-ending shot was made | Perpendicular distance from the center line in meters\n",
    "| player.depth | Distance of player who made point-ending shot from the net at the time the penultimate shot was made | Perpendicular distance along the length of court from net in meters\n",
    "| player.distance.from.center | Distance of player who made point-ending shot from the center line at the time the penultimate shot was made | Perpendicular distance from the center line in meters\n",
    "| opponent.depth | Distance of opponent from the net at the time the at the time the penultimate shot was made | Perpendicular distance along the length of court from net in meters\n",
    "| opponent.distance.from.center | Distance of opponent from the center line at the time the penultimate shot was made | Perpendicular distance from the center line in meters\n",
    "| same.side | Logical indicator if both player and opponent were positioned on the same side of the center line (ad or deuce court) at the time the penultimate shot was made | TRUE, FALSE\n",
    "| previous.speed | Speed of penultimate shot | Continuous (m/s)\n",
    "| previous.net.clearance | Distance above the net as penultimate shot passed the net | Continuous (cm) distance above net. Can be negative if shot did not pass above the net.\n",
    "| previous.distance.from.sideline | Lateral distance of the penultimate  shot bounce from the nearest singles sideline. | Perpendicular distance in meters (always positive even if out)\n",
    "| previous.depth | Distance of the penultimate shot bounce from the baseline | Perpendicular distance in meters\n",
    "(always positive even if out)\n",
    "| previous.hitpoint | Shot category for penultimate shot | F = Forehand, B = Backhand, V = Volley, U = Unknown\n",
    "| previous.time.to.net | Time for penultimate shot to be hit and pass the net | Continuous number in seconds\n",
    "| server.is.impact.player | Logical if player who made point-ending shot was the server of the point | TRUE, FALSE\n",
    "| outcome | Target variable, character with three categories indicating the type of shot that ended the point  | W (Winner), FE (Forced Error), UE (Unforced Error)\n",
    "| id | A 10-character unique identifier for the point | Character"
   ]
  },
  {
   "cell_type": "code",
   "execution_count": 2,
   "metadata": {},
   "outputs": [
    {
     "name": "stdout",
     "output_type": "stream",
     "text": [
      "Note: you may need to restart the kernel to use updated packages.\n"
     ]
    },
    {
     "name": "stderr",
     "output_type": "stream",
     "text": [
      "'c:\\users\\gaurav' is not recognized as an internal or external command,\n",
      "operable program or batch file.\n"
     ]
    }
   ],
   "source": [
    "pip install -U scikit-learn"
   ]
  },
  {
   "cell_type": "markdown",
   "metadata": {},
   "source": [
    "# Import libraries"
   ]
  },
  {
   "cell_type": "code",
   "execution_count": null,
   "metadata": {},
   "outputs": [],
   "source": [
    "import pandas as pd\n",
    "import numpy\n",
    "from IPython.display import Image\n",
    "from sklearn.model_selection import train_test_split\n",
    "from sklearn.metrics import accuracy_score,classification_report,confusion_matrix\n",
    "from sklearn.model_selection import GridSearchCV\n",
    "import warnings\n",
    "warnings.filterwarnings('ignore')"
   ]
  },
  {
   "cell_type": "code",
   "execution_count": 31,
   "metadata": {},
   "outputs": [],
   "source": [
    "data = pd.read_csv(\"data/tennis.csv\")"
   ]
  },
  {
   "cell_type": "markdown",
   "metadata": {},
   "source": [
    "#### See the top 5 rows of the data"
   ]
  },
  {
   "cell_type": "code",
   "execution_count": 32,
   "metadata": {
    "scrolled": true
   },
   "outputs": [
    {
     "data": {
      "text/html": [
       "<div>\n",
       "<style scoped>\n",
       "    .dataframe tbody tr th:only-of-type {\n",
       "        vertical-align: middle;\n",
       "    }\n",
       "\n",
       "    .dataframe tbody tr th {\n",
       "        vertical-align: top;\n",
       "    }\n",
       "\n",
       "    .dataframe thead th {\n",
       "        text-align: right;\n",
       "    }\n",
       "</style>\n",
       "<table border=\"1\" class=\"dataframe\">\n",
       "  <thead>\n",
       "    <tr style=\"text-align: right;\">\n",
       "      <th></th>\n",
       "      <th>rally</th>\n",
       "      <th>serve</th>\n",
       "      <th>hitpoint</th>\n",
       "      <th>speed</th>\n",
       "      <th>net.clearance</th>\n",
       "      <th>distance.from.sideline</th>\n",
       "      <th>depth</th>\n",
       "      <th>outside.sideline</th>\n",
       "      <th>outside.baseline</th>\n",
       "      <th>player.distance.travelled</th>\n",
       "      <th>...</th>\n",
       "      <th>previous.depth</th>\n",
       "      <th>opponent.depth</th>\n",
       "      <th>opponent.distance.from.center</th>\n",
       "      <th>same.side</th>\n",
       "      <th>previous.hitpoint</th>\n",
       "      <th>previous.time.to.net</th>\n",
       "      <th>server.is.impact.player</th>\n",
       "      <th>outcome</th>\n",
       "      <th>gender</th>\n",
       "      <th>ID</th>\n",
       "    </tr>\n",
       "  </thead>\n",
       "  <tbody>\n",
       "    <tr>\n",
       "      <th>0</th>\n",
       "      <td>4</td>\n",
       "      <td>1</td>\n",
       "      <td>B</td>\n",
       "      <td>35.515042</td>\n",
       "      <td>-0.021725</td>\n",
       "      <td>3.474766</td>\n",
       "      <td>6.797621</td>\n",
       "      <td>False</td>\n",
       "      <td>False</td>\n",
       "      <td>1.467570</td>\n",
       "      <td>...</td>\n",
       "      <td>0.705435</td>\n",
       "      <td>12.5628</td>\n",
       "      <td>2.0724</td>\n",
       "      <td>True</td>\n",
       "      <td>F</td>\n",
       "      <td>0.445318</td>\n",
       "      <td>False</td>\n",
       "      <td>UE</td>\n",
       "      <td>mens</td>\n",
       "      <td>8644</td>\n",
       "    </tr>\n",
       "    <tr>\n",
       "      <th>1</th>\n",
       "      <td>4</td>\n",
       "      <td>2</td>\n",
       "      <td>B</td>\n",
       "      <td>33.382640</td>\n",
       "      <td>1.114202</td>\n",
       "      <td>2.540801</td>\n",
       "      <td>2.608708</td>\n",
       "      <td>False</td>\n",
       "      <td>True</td>\n",
       "      <td>2.311931</td>\n",
       "      <td>...</td>\n",
       "      <td>3.856600</td>\n",
       "      <td>12.3544</td>\n",
       "      <td>5.1124</td>\n",
       "      <td>False</td>\n",
       "      <td>B</td>\n",
       "      <td>0.432434</td>\n",
       "      <td>False</td>\n",
       "      <td>FE</td>\n",
       "      <td>mens</td>\n",
       "      <td>1182</td>\n",
       "    </tr>\n",
       "    <tr>\n",
       "      <th>2</th>\n",
       "      <td>23</td>\n",
       "      <td>1</td>\n",
       "      <td>B</td>\n",
       "      <td>22.316690</td>\n",
       "      <td>-0.254046</td>\n",
       "      <td>3.533166</td>\n",
       "      <td>9.435749</td>\n",
       "      <td>False</td>\n",
       "      <td>False</td>\n",
       "      <td>3.903728</td>\n",
       "      <td>...</td>\n",
       "      <td>2.908892</td>\n",
       "      <td>13.8620</td>\n",
       "      <td>1.6564</td>\n",
       "      <td>False</td>\n",
       "      <td>F</td>\n",
       "      <td>0.397538</td>\n",
       "      <td>True</td>\n",
       "      <td>FE</td>\n",
       "      <td>mens</td>\n",
       "      <td>9042</td>\n",
       "    </tr>\n",
       "    <tr>\n",
       "      <th>3</th>\n",
       "      <td>9</td>\n",
       "      <td>1</td>\n",
       "      <td>F</td>\n",
       "      <td>36.837309</td>\n",
       "      <td>0.766694</td>\n",
       "      <td>0.586885</td>\n",
       "      <td>3.342180</td>\n",
       "      <td>True</td>\n",
       "      <td>False</td>\n",
       "      <td>0.583745</td>\n",
       "      <td>...</td>\n",
       "      <td>0.557554</td>\n",
       "      <td>14.2596</td>\n",
       "      <td>0.1606</td>\n",
       "      <td>True</td>\n",
       "      <td>B</td>\n",
       "      <td>0.671984</td>\n",
       "      <td>True</td>\n",
       "      <td>UE</td>\n",
       "      <td>mens</td>\n",
       "      <td>1222</td>\n",
       "    </tr>\n",
       "    <tr>\n",
       "      <th>4</th>\n",
       "      <td>4</td>\n",
       "      <td>1</td>\n",
       "      <td>B</td>\n",
       "      <td>35.544208</td>\n",
       "      <td>0.116162</td>\n",
       "      <td>0.918725</td>\n",
       "      <td>5.499119</td>\n",
       "      <td>False</td>\n",
       "      <td>False</td>\n",
       "      <td>2.333456</td>\n",
       "      <td>...</td>\n",
       "      <td>3.945317</td>\n",
       "      <td>11.3658</td>\n",
       "      <td>1.1082</td>\n",
       "      <td>False</td>\n",
       "      <td>F</td>\n",
       "      <td>0.340411</td>\n",
       "      <td>False</td>\n",
       "      <td>W</td>\n",
       "      <td>mens</td>\n",
       "      <td>4085</td>\n",
       "    </tr>\n",
       "  </tbody>\n",
       "</table>\n",
       "<p>5 rows × 27 columns</p>\n",
       "</div>"
      ],
      "text/plain": [
       "   rally  serve hitpoint      speed  net.clearance  distance.from.sideline  \\\n",
       "0      4      1        B  35.515042      -0.021725                3.474766   \n",
       "1      4      2        B  33.382640       1.114202                2.540801   \n",
       "2     23      1        B  22.316690      -0.254046                3.533166   \n",
       "3      9      1        F  36.837309       0.766694                0.586885   \n",
       "4      4      1        B  35.544208       0.116162                0.918725   \n",
       "\n",
       "      depth  outside.sideline  outside.baseline  player.distance.travelled  \\\n",
       "0  6.797621             False             False                   1.467570   \n",
       "1  2.608708             False              True                   2.311931   \n",
       "2  9.435749             False             False                   3.903728   \n",
       "3  3.342180              True             False                   0.583745   \n",
       "4  5.499119             False             False                   2.333456   \n",
       "\n",
       "   ...  previous.depth  opponent.depth  opponent.distance.from.center  \\\n",
       "0  ...        0.705435         12.5628                         2.0724   \n",
       "1  ...        3.856600         12.3544                         5.1124   \n",
       "2  ...        2.908892         13.8620                         1.6564   \n",
       "3  ...        0.557554         14.2596                         0.1606   \n",
       "4  ...        3.945317         11.3658                         1.1082   \n",
       "\n",
       "   same.side  previous.hitpoint  previous.time.to.net  \\\n",
       "0       True                  F              0.445318   \n",
       "1      False                  B              0.432434   \n",
       "2      False                  F              0.397538   \n",
       "3       True                  B              0.671984   \n",
       "4      False                  F              0.340411   \n",
       "\n",
       "   server.is.impact.player  outcome  gender    ID  \n",
       "0                    False       UE    mens  8644  \n",
       "1                    False       FE    mens  1182  \n",
       "2                     True       FE    mens  9042  \n",
       "3                     True       UE    mens  1222  \n",
       "4                    False        W    mens  4085  \n",
       "\n",
       "[5 rows x 27 columns]"
      ]
     },
     "execution_count": 32,
     "metadata": {},
     "output_type": "execute_result"
    }
   ],
   "source": [
    "data.head()"
   ]
  },
  {
   "cell_type": "markdown",
   "metadata": {},
   "source": [
    "#### Dimension of data"
   ]
  },
  {
   "cell_type": "code",
   "execution_count": 33,
   "metadata": {},
   "outputs": [
    {
     "data": {
      "text/plain": [
       "(8001, 27)"
      ]
     },
     "execution_count": 33,
     "metadata": {},
     "output_type": "execute_result"
    }
   ],
   "source": [
    "data.shape"
   ]
  },
  {
   "cell_type": "markdown",
   "metadata": {},
   "source": [
    "#### Different classes in Outcome variable"
   ]
  },
  {
   "cell_type": "code",
   "execution_count": 34,
   "metadata": {},
   "outputs": [
    {
     "data": {
      "text/plain": [
       "array(['UE', 'FE', 'W'], dtype=object)"
      ]
     },
     "execution_count": 34,
     "metadata": {},
     "output_type": "execute_result"
    }
   ],
   "source": [
    "data.outcome.unique()"
   ]
  },
  {
   "cell_type": "code",
   "execution_count": 35,
   "metadata": {},
   "outputs": [
    {
     "data": {
      "text/plain": [
       "UE    3501\n",
       "W     2682\n",
       "FE    1818\n",
       "Name: outcome, dtype: int64"
      ]
     },
     "execution_count": 35,
     "metadata": {},
     "output_type": "execute_result"
    }
   ],
   "source": [
    "data.outcome.value_counts()"
   ]
  },
  {
   "cell_type": "code",
   "execution_count": 36,
   "metadata": {},
   "outputs": [
    {
     "data": {
      "text/plain": [
       "UE    43.75703\n",
       "W     33.52081\n",
       "FE    22.72216\n",
       "Name: outcome, dtype: float64"
      ]
     },
     "execution_count": 36,
     "metadata": {},
     "output_type": "execute_result"
    }
   ],
   "source": [
    "data.outcome.value_counts(normalize= True)*100"
   ]
  },
  {
   "cell_type": "markdown",
   "metadata": {},
   "source": [
    "#### Check the number of columns"
   ]
  },
  {
   "cell_type": "code",
   "execution_count": 37,
   "metadata": {},
   "outputs": [
    {
     "data": {
      "text/plain": [
       "27"
      ]
     },
     "execution_count": 37,
     "metadata": {},
     "output_type": "execute_result"
    }
   ],
   "source": [
    "len(data.columns)"
   ]
  },
  {
   "cell_type": "markdown",
   "metadata": {},
   "source": [
    "#### Display data type of each variable"
   ]
  },
  {
   "cell_type": "code",
   "execution_count": 38,
   "metadata": {
    "scrolled": false
   },
   "outputs": [
    {
     "data": {
      "text/plain": [
       "rally                                   int64\n",
       "serve                                   int64\n",
       "hitpoint                               object\n",
       "speed                                 float64\n",
       "net.clearance                         float64\n",
       "distance.from.sideline                float64\n",
       "depth                                 float64\n",
       "outside.sideline                         bool\n",
       "outside.baseline                         bool\n",
       "player.distance.travelled             float64\n",
       "player.impact.depth                   float64\n",
       "player.impact.distance.from.center    float64\n",
       "player.depth                          float64\n",
       "player.distance.from.center           float64\n",
       "previous.speed                        float64\n",
       "previous.net.clearance                float64\n",
       "previous.distance.from.sideline       float64\n",
       "previous.depth                        float64\n",
       "opponent.depth                        float64\n",
       "opponent.distance.from.center         float64\n",
       "same.side                                bool\n",
       "previous.hitpoint                      object\n",
       "previous.time.to.net                  float64\n",
       "server.is.impact.player                  bool\n",
       "outcome                                object\n",
       "gender                                 object\n",
       "ID                                      int64\n",
       "dtype: object"
      ]
     },
     "execution_count": 38,
     "metadata": {},
     "output_type": "execute_result"
    }
   ],
   "source": [
    "data.dtypes"
   ]
  },
  {
   "cell_type": "markdown",
   "metadata": {},
   "source": [
    "#### Identifying categorical attributes"
   ]
  },
  {
   "cell_type": "code",
   "execution_count": 39,
   "metadata": {},
   "outputs": [],
   "source": [
    "categorical_list = [\"hitpoint\",\"outside.sideline\",\n",
    "                    \"outside.baseline\",\"same.side\",\n",
    "                    \"previous.hitpoint\",\n",
    "                    \"server.is.impact.player\",\n",
    "                    \"gender\",\"outcome\"]"
   ]
  },
  {
   "cell_type": "markdown",
   "metadata": {},
   "source": [
    "#### Converting to appropriate datatype"
   ]
  },
  {
   "cell_type": "code",
   "execution_count": 40,
   "metadata": {},
   "outputs": [],
   "source": [
    "data[categorical_list] = data[categorical_list].astype(\"category\")    "
   ]
  },
  {
   "cell_type": "markdown",
   "metadata": {},
   "source": [
    "#### Display data type of each variable after conversion"
   ]
  },
  {
   "cell_type": "code",
   "execution_count": 41,
   "metadata": {},
   "outputs": [
    {
     "data": {
      "text/plain": [
       "rally                                    int64\n",
       "serve                                    int64\n",
       "hitpoint                              category\n",
       "speed                                  float64\n",
       "net.clearance                          float64\n",
       "distance.from.sideline                 float64\n",
       "depth                                  float64\n",
       "outside.sideline                      category\n",
       "outside.baseline                      category\n",
       "player.distance.travelled              float64\n",
       "player.impact.depth                    float64\n",
       "player.impact.distance.from.center     float64\n",
       "player.depth                           float64\n",
       "player.distance.from.center            float64\n",
       "previous.speed                         float64\n",
       "previous.net.clearance                 float64\n",
       "previous.distance.from.sideline        float64\n",
       "previous.depth                         float64\n",
       "opponent.depth                         float64\n",
       "opponent.distance.from.center          float64\n",
       "same.side                             category\n",
       "previous.hitpoint                     category\n",
       "previous.time.to.net                   float64\n",
       "server.is.impact.player               category\n",
       "outcome                               category\n",
       "gender                                category\n",
       "ID                                       int64\n",
       "dtype: object"
      ]
     },
     "execution_count": 41,
     "metadata": {},
     "output_type": "execute_result"
    }
   ],
   "source": [
    "data.dtypes"
   ]
  },
  {
   "cell_type": "markdown",
   "metadata": {},
   "source": [
    "#### Dropping ID column and checking the length of columns"
   ]
  },
  {
   "cell_type": "code",
   "execution_count": 42,
   "metadata": {},
   "outputs": [
    {
     "data": {
      "text/plain": [
       "8001"
      ]
     },
     "execution_count": 42,
     "metadata": {},
     "output_type": "execute_result"
    }
   ],
   "source": [
    "len(data['ID'].unique())"
   ]
  },
  {
   "cell_type": "code",
   "execution_count": 43,
   "metadata": {},
   "outputs": [
    {
     "data": {
      "text/plain": [
       "(8001, 27)"
      ]
     },
     "execution_count": 43,
     "metadata": {},
     "output_type": "execute_result"
    }
   ],
   "source": [
    "data.shape"
   ]
  },
  {
   "cell_type": "code",
   "execution_count": 44,
   "metadata": {},
   "outputs": [
    {
     "data": {
      "text/plain": [
       "26"
      ]
     },
     "execution_count": 44,
     "metadata": {},
     "output_type": "execute_result"
    }
   ],
   "source": [
    "data.drop([\"ID\"], axis=1, inplace=True)\n",
    "len(data.columns)"
   ]
  },
  {
   "cell_type": "markdown",
   "metadata": {},
   "source": [
    "#### Display summary statistics "
   ]
  },
  {
   "cell_type": "code",
   "execution_count": 45,
   "metadata": {
    "scrolled": true
   },
   "outputs": [
    {
     "data": {
      "text/html": [
       "<div>\n",
       "<style scoped>\n",
       "    .dataframe tbody tr th:only-of-type {\n",
       "        vertical-align: middle;\n",
       "    }\n",
       "\n",
       "    .dataframe tbody tr th {\n",
       "        vertical-align: top;\n",
       "    }\n",
       "\n",
       "    .dataframe thead th {\n",
       "        text-align: right;\n",
       "    }\n",
       "</style>\n",
       "<table border=\"1\" class=\"dataframe\">\n",
       "  <thead>\n",
       "    <tr style=\"text-align: right;\">\n",
       "      <th></th>\n",
       "      <th>rally</th>\n",
       "      <th>serve</th>\n",
       "      <th>speed</th>\n",
       "      <th>net.clearance</th>\n",
       "      <th>distance.from.sideline</th>\n",
       "      <th>depth</th>\n",
       "      <th>player.distance.travelled</th>\n",
       "      <th>player.impact.depth</th>\n",
       "      <th>player.impact.distance.from.center</th>\n",
       "      <th>player.depth</th>\n",
       "      <th>player.distance.from.center</th>\n",
       "      <th>previous.speed</th>\n",
       "      <th>previous.net.clearance</th>\n",
       "      <th>previous.distance.from.sideline</th>\n",
       "      <th>previous.depth</th>\n",
       "      <th>opponent.depth</th>\n",
       "      <th>opponent.distance.from.center</th>\n",
       "      <th>previous.time.to.net</th>\n",
       "    </tr>\n",
       "  </thead>\n",
       "  <tbody>\n",
       "    <tr>\n",
       "      <th>count</th>\n",
       "      <td>8001.000000</td>\n",
       "      <td>8001.000000</td>\n",
       "      <td>8001.000000</td>\n",
       "      <td>8001.000000</td>\n",
       "      <td>8001.000000</td>\n",
       "      <td>8001.000000</td>\n",
       "      <td>8001.000000</td>\n",
       "      <td>8001.000000</td>\n",
       "      <td>8001.000000</td>\n",
       "      <td>8001.000000</td>\n",
       "      <td>8001.000000</td>\n",
       "      <td>8001.000000</td>\n",
       "      <td>8001.000000</td>\n",
       "      <td>8001.000000</td>\n",
       "      <td>8001.000000</td>\n",
       "      <td>8001.000000</td>\n",
       "      <td>8001.000000</td>\n",
       "      <td>8001.000000</td>\n",
       "    </tr>\n",
       "    <tr>\n",
       "      <th>mean</th>\n",
       "      <td>5.966004</td>\n",
       "      <td>1.398700</td>\n",
       "      <td>30.806938</td>\n",
       "      <td>0.629658</td>\n",
       "      <td>1.467630</td>\n",
       "      <td>4.421146</td>\n",
       "      <td>2.690463</td>\n",
       "      <td>11.899694</td>\n",
       "      <td>1.919544</td>\n",
       "      <td>12.253954</td>\n",
       "      <td>1.213795</td>\n",
       "      <td>28.763676</td>\n",
       "      <td>0.821562</td>\n",
       "      <td>2.193420</td>\n",
       "      <td>4.218717</td>\n",
       "      <td>12.616810</td>\n",
       "      <td>2.367952</td>\n",
       "      <td>0.549988</td>\n",
       "    </tr>\n",
       "    <tr>\n",
       "      <th>std</th>\n",
       "      <td>3.548182</td>\n",
       "      <td>0.489661</td>\n",
       "      <td>7.298917</td>\n",
       "      <td>0.982504</td>\n",
       "      <td>1.108697</td>\n",
       "      <td>3.144965</td>\n",
       "      <td>1.713136</td>\n",
       "      <td>2.788231</td>\n",
       "      <td>1.205449</td>\n",
       "      <td>2.039085</td>\n",
       "      <td>0.964364</td>\n",
       "      <td>6.477470</td>\n",
       "      <td>0.674663</td>\n",
       "      <td>1.038942</td>\n",
       "      <td>2.052946</td>\n",
       "      <td>2.075401</td>\n",
       "      <td>1.313927</td>\n",
       "      <td>0.186788</td>\n",
       "    </tr>\n",
       "    <tr>\n",
       "      <th>min</th>\n",
       "      <td>3.000000</td>\n",
       "      <td>1.000000</td>\n",
       "      <td>5.176078</td>\n",
       "      <td>-0.998184</td>\n",
       "      <td>0.000497</td>\n",
       "      <td>0.003135</td>\n",
       "      <td>0.000000</td>\n",
       "      <td>2.156000</td>\n",
       "      <td>0.000200</td>\n",
       "      <td>1.389800</td>\n",
       "      <td>0.000400</td>\n",
       "      <td>8.449117</td>\n",
       "      <td>0.028865</td>\n",
       "      <td>0.000164</td>\n",
       "      <td>0.000467</td>\n",
       "      <td>2.161200</td>\n",
       "      <td>0.000200</td>\n",
       "      <td>0.003201</td>\n",
       "    </tr>\n",
       "    <tr>\n",
       "      <th>25%</th>\n",
       "      <td>3.000000</td>\n",
       "      <td>1.000000</td>\n",
       "      <td>26.770290</td>\n",
       "      <td>-0.027092</td>\n",
       "      <td>0.539500</td>\n",
       "      <td>1.641161</td>\n",
       "      <td>1.444233</td>\n",
       "      <td>11.221400</td>\n",
       "      <td>0.942400</td>\n",
       "      <td>11.374200</td>\n",
       "      <td>0.551800</td>\n",
       "      <td>24.033218</td>\n",
       "      <td>0.404815</td>\n",
       "      <td>1.354458</td>\n",
       "      <td>2.733674</td>\n",
       "      <td>12.082400</td>\n",
       "      <td>1.352200</td>\n",
       "      <td>0.432164</td>\n",
       "    </tr>\n",
       "    <tr>\n",
       "      <th>50%</th>\n",
       "      <td>5.000000</td>\n",
       "      <td>1.000000</td>\n",
       "      <td>32.417690</td>\n",
       "      <td>0.445870</td>\n",
       "      <td>1.210847</td>\n",
       "      <td>3.860266</td>\n",
       "      <td>2.360894</td>\n",
       "      <td>12.691800</td>\n",
       "      <td>1.829400</td>\n",
       "      <td>12.551600</td>\n",
       "      <td>0.983800</td>\n",
       "      <td>29.793417</td>\n",
       "      <td>0.658382</td>\n",
       "      <td>2.168822</td>\n",
       "      <td>4.126864</td>\n",
       "      <td>12.901600</td>\n",
       "      <td>2.332000</td>\n",
       "      <td>0.507559</td>\n",
       "    </tr>\n",
       "    <tr>\n",
       "      <th>75%</th>\n",
       "      <td>7.000000</td>\n",
       "      <td>2.000000</td>\n",
       "      <td>35.681431</td>\n",
       "      <td>0.970844</td>\n",
       "      <td>2.215955</td>\n",
       "      <td>7.029345</td>\n",
       "      <td>3.565853</td>\n",
       "      <td>13.553000</td>\n",
       "      <td>2.745200</td>\n",
       "      <td>13.498000</td>\n",
       "      <td>1.596600</td>\n",
       "      <td>33.581003</td>\n",
       "      <td>1.021397</td>\n",
       "      <td>3.022677</td>\n",
       "      <td>5.595515</td>\n",
       "      <td>13.712800</td>\n",
       "      <td>3.259000</td>\n",
       "      <td>0.624135</td>\n",
       "    </tr>\n",
       "    <tr>\n",
       "      <th>max</th>\n",
       "      <td>38.000000</td>\n",
       "      <td>2.000000</td>\n",
       "      <td>55.052795</td>\n",
       "      <td>12.815893</td>\n",
       "      <td>7.569757</td>\n",
       "      <td>11.886069</td>\n",
       "      <td>14.480546</td>\n",
       "      <td>18.125600</td>\n",
       "      <td>7.746200</td>\n",
       "      <td>18.745800</td>\n",
       "      <td>9.352600</td>\n",
       "      <td>54.207506</td>\n",
       "      <td>6.730275</td>\n",
       "      <td>4.114361</td>\n",
       "      <td>9.997963</td>\n",
       "      <td>20.211000</td>\n",
       "      <td>6.852600</td>\n",
       "      <td>1.635257</td>\n",
       "    </tr>\n",
       "  </tbody>\n",
       "</table>\n",
       "</div>"
      ],
      "text/plain": [
       "             rally        serve        speed  net.clearance  \\\n",
       "count  8001.000000  8001.000000  8001.000000    8001.000000   \n",
       "mean      5.966004     1.398700    30.806938       0.629658   \n",
       "std       3.548182     0.489661     7.298917       0.982504   \n",
       "min       3.000000     1.000000     5.176078      -0.998184   \n",
       "25%       3.000000     1.000000    26.770290      -0.027092   \n",
       "50%       5.000000     1.000000    32.417690       0.445870   \n",
       "75%       7.000000     2.000000    35.681431       0.970844   \n",
       "max      38.000000     2.000000    55.052795      12.815893   \n",
       "\n",
       "       distance.from.sideline        depth  player.distance.travelled  \\\n",
       "count             8001.000000  8001.000000                8001.000000   \n",
       "mean                 1.467630     4.421146                   2.690463   \n",
       "std                  1.108697     3.144965                   1.713136   \n",
       "min                  0.000497     0.003135                   0.000000   \n",
       "25%                  0.539500     1.641161                   1.444233   \n",
       "50%                  1.210847     3.860266                   2.360894   \n",
       "75%                  2.215955     7.029345                   3.565853   \n",
       "max                  7.569757    11.886069                  14.480546   \n",
       "\n",
       "       player.impact.depth  player.impact.distance.from.center  player.depth  \\\n",
       "count          8001.000000                         8001.000000   8001.000000   \n",
       "mean             11.899694                            1.919544     12.253954   \n",
       "std               2.788231                            1.205449      2.039085   \n",
       "min               2.156000                            0.000200      1.389800   \n",
       "25%              11.221400                            0.942400     11.374200   \n",
       "50%              12.691800                            1.829400     12.551600   \n",
       "75%              13.553000                            2.745200     13.498000   \n",
       "max              18.125600                            7.746200     18.745800   \n",
       "\n",
       "       player.distance.from.center  previous.speed  previous.net.clearance  \\\n",
       "count                  8001.000000     8001.000000             8001.000000   \n",
       "mean                      1.213795       28.763676                0.821562   \n",
       "std                       0.964364        6.477470                0.674663   \n",
       "min                       0.000400        8.449117                0.028865   \n",
       "25%                       0.551800       24.033218                0.404815   \n",
       "50%                       0.983800       29.793417                0.658382   \n",
       "75%                       1.596600       33.581003                1.021397   \n",
       "max                       9.352600       54.207506                6.730275   \n",
       "\n",
       "       previous.distance.from.sideline  previous.depth  opponent.depth  \\\n",
       "count                      8001.000000     8001.000000     8001.000000   \n",
       "mean                          2.193420        4.218717       12.616810   \n",
       "std                           1.038942        2.052946        2.075401   \n",
       "min                           0.000164        0.000467        2.161200   \n",
       "25%                           1.354458        2.733674       12.082400   \n",
       "50%                           2.168822        4.126864       12.901600   \n",
       "75%                           3.022677        5.595515       13.712800   \n",
       "max                           4.114361        9.997963       20.211000   \n",
       "\n",
       "       opponent.distance.from.center  previous.time.to.net  \n",
       "count                    8001.000000           8001.000000  \n",
       "mean                        2.367952              0.549988  \n",
       "std                         1.313927              0.186788  \n",
       "min                         0.000200              0.003201  \n",
       "25%                         1.352200              0.432164  \n",
       "50%                         2.332000              0.507559  \n",
       "75%                         3.259000              0.624135  \n",
       "max                         6.852600              1.635257  "
      ]
     },
     "execution_count": 45,
     "metadata": {},
     "output_type": "execute_result"
    }
   ],
   "source": [
    "data.describe()"
   ]
  },
  {
   "cell_type": "code",
   "execution_count": 46,
   "metadata": {},
   "outputs": [
    {
     "data": {
      "text/html": [
       "<div>\n",
       "<style scoped>\n",
       "    .dataframe tbody tr th:only-of-type {\n",
       "        vertical-align: middle;\n",
       "    }\n",
       "\n",
       "    .dataframe tbody tr th {\n",
       "        vertical-align: top;\n",
       "    }\n",
       "\n",
       "    .dataframe thead th {\n",
       "        text-align: right;\n",
       "    }\n",
       "</style>\n",
       "<table border=\"1\" class=\"dataframe\">\n",
       "  <thead>\n",
       "    <tr style=\"text-align: right;\">\n",
       "      <th></th>\n",
       "      <th>hitpoint</th>\n",
       "      <th>outside.sideline</th>\n",
       "      <th>outside.baseline</th>\n",
       "      <th>same.side</th>\n",
       "      <th>previous.hitpoint</th>\n",
       "      <th>server.is.impact.player</th>\n",
       "      <th>outcome</th>\n",
       "      <th>gender</th>\n",
       "    </tr>\n",
       "  </thead>\n",
       "  <tbody>\n",
       "    <tr>\n",
       "      <th>count</th>\n",
       "      <td>8001</td>\n",
       "      <td>8001</td>\n",
       "      <td>8001</td>\n",
       "      <td>8001</td>\n",
       "      <td>8001</td>\n",
       "      <td>8001</td>\n",
       "      <td>8001</td>\n",
       "      <td>8001</td>\n",
       "    </tr>\n",
       "    <tr>\n",
       "      <th>unique</th>\n",
       "      <td>4</td>\n",
       "      <td>2</td>\n",
       "      <td>2</td>\n",
       "      <td>2</td>\n",
       "      <td>4</td>\n",
       "      <td>2</td>\n",
       "      <td>3</td>\n",
       "      <td>2</td>\n",
       "    </tr>\n",
       "    <tr>\n",
       "      <th>top</th>\n",
       "      <td>F</td>\n",
       "      <td>False</td>\n",
       "      <td>False</td>\n",
       "      <td>False</td>\n",
       "      <td>F</td>\n",
       "      <td>True</td>\n",
       "      <td>UE</td>\n",
       "      <td>mens</td>\n",
       "    </tr>\n",
       "    <tr>\n",
       "      <th>freq</th>\n",
       "      <td>4402</td>\n",
       "      <td>6500</td>\n",
       "      <td>6380</td>\n",
       "      <td>6036</td>\n",
       "      <td>3684</td>\n",
       "      <td>4670</td>\n",
       "      <td>3501</td>\n",
       "      <td>4005</td>\n",
       "    </tr>\n",
       "  </tbody>\n",
       "</table>\n",
       "</div>"
      ],
      "text/plain": [
       "       hitpoint outside.sideline outside.baseline same.side previous.hitpoint  \\\n",
       "count      8001             8001             8001      8001              8001   \n",
       "unique        4                2                2         2                 4   \n",
       "top           F            False            False     False                 F   \n",
       "freq       4402             6500             6380      6036              3684   \n",
       "\n",
       "       server.is.impact.player outcome gender  \n",
       "count                     8001    8001   8001  \n",
       "unique                       2       3      2  \n",
       "top                       True      UE   mens  \n",
       "freq                      4670    3501   4005  "
      ]
     },
     "execution_count": 46,
     "metadata": {},
     "output_type": "execute_result"
    }
   ],
   "source": [
    "data.describe(include=['category'])"
   ]
  },
  {
   "cell_type": "markdown",
   "metadata": {},
   "source": [
    "#### Checking for null values"
   ]
  },
  {
   "cell_type": "code",
   "execution_count": 47,
   "metadata": {
    "scrolled": false
   },
   "outputs": [
    {
     "data": {
      "text/plain": [
       "rally                                 0\n",
       "serve                                 0\n",
       "hitpoint                              0\n",
       "speed                                 0\n",
       "net.clearance                         0\n",
       "distance.from.sideline                0\n",
       "depth                                 0\n",
       "outside.sideline                      0\n",
       "outside.baseline                      0\n",
       "player.distance.travelled             0\n",
       "player.impact.depth                   0\n",
       "player.impact.distance.from.center    0\n",
       "player.depth                          0\n",
       "player.distance.from.center           0\n",
       "previous.speed                        0\n",
       "previous.net.clearance                0\n",
       "previous.distance.from.sideline       0\n",
       "previous.depth                        0\n",
       "opponent.depth                        0\n",
       "opponent.distance.from.center         0\n",
       "same.side                             0\n",
       "previous.hitpoint                     0\n",
       "previous.time.to.net                  0\n",
       "server.is.impact.player               0\n",
       "outcome                               0\n",
       "gender                                0\n",
       "dtype: int64"
      ]
     },
     "execution_count": 47,
     "metadata": {},
     "output_type": "execute_result"
    }
   ],
   "source": [
    "data.isnull().sum()"
   ]
  },
  {
   "cell_type": "markdown",
   "metadata": {},
   "source": [
    "#### Divide the data into train and test"
   ]
  },
  {
   "cell_type": "code",
   "execution_count": 48,
   "metadata": {},
   "outputs": [
    {
     "name": "stdout",
     "output_type": "stream",
     "text": [
      "(5600, 25)\n",
      "(2401, 25)\n",
      "(5600,)\n",
      "(2401,)\n"
     ]
    }
   ],
   "source": [
    "y=data[\"outcome\"]\n",
    "X=data.drop('outcome', axis=1)\n",
    "X_train, X_test, y_train, y_test = train_test_split(X, y, test_size=0.30,random_state=123)\n",
    "print(X_train.shape)\n",
    "print(X_test.shape)\n",
    "print(y_train.shape)\n",
    "print(y_test.shape)"
   ]
  },
  {
   "cell_type": "markdown",
   "metadata": {},
   "source": [
    "#### Display all the columns"
   ]
  },
  {
   "cell_type": "code",
   "execution_count": 49,
   "metadata": {},
   "outputs": [
    {
     "data": {
      "text/plain": [
       "Index(['rally', 'serve', 'hitpoint', 'speed', 'net.clearance',\n",
       "       'distance.from.sideline', 'depth', 'outside.sideline',\n",
       "       'outside.baseline', 'player.distance.travelled', 'player.impact.depth',\n",
       "       'player.impact.distance.from.center', 'player.depth',\n",
       "       'player.distance.from.center', 'previous.speed',\n",
       "       'previous.net.clearance', 'previous.distance.from.sideline',\n",
       "       'previous.depth', 'opponent.depth', 'opponent.distance.from.center',\n",
       "       'same.side', 'previous.hitpoint', 'previous.time.to.net',\n",
       "       'server.is.impact.player', 'outcome', 'gender'],\n",
       "      dtype='object')"
      ]
     },
     "execution_count": 49,
     "metadata": {},
     "output_type": "execute_result"
    }
   ],
   "source": [
    "data.columns"
   ]
  },
  {
   "cell_type": "markdown",
   "metadata": {},
   "source": [
    "#### Creating a list of numerical attributes and categorical list"
   ]
  },
  {
   "cell_type": "code",
   "execution_count": 50,
   "metadata": {},
   "outputs": [],
   "source": [
    "numeric_list = ['rally','serve','speed','net.clearance',\n",
    "                'distance.from.sideline','depth',\n",
    "                'player.distance.travelled','player.impact.depth',\n",
    "                'player.impact.distance.from.center',\n",
    "                'player.depth','player.distance.from.center',\n",
    "                'previous.speed','previous.net.clearance',\n",
    "                'previous.distance.from.sideline','previous.depth',\n",
    "                'opponent.depth','opponent.distance.from.center',\n",
    "                'previous.time.to.net']\n",
    "\n",
    "categorical_list = [\"hitpoint\",\"outside.sideline\",\n",
    "                    \"outside.baseline\",\"same.side\",\n",
    "                    \"previous.hitpoint\",\n",
    "                    \"server.is.impact.player\",\n",
    "                    \"gender\"]"
   ]
  },
  {
   "cell_type": "code",
   "execution_count": 51,
   "metadata": {
    "scrolled": true
   },
   "outputs": [
    {
     "data": {
      "text/plain": [
       "18"
      ]
     },
     "execution_count": 51,
     "metadata": {},
     "output_type": "execute_result"
    }
   ],
   "source": [
    "len(numeric_list)"
   ]
  },
  {
   "cell_type": "code",
   "execution_count": 52,
   "metadata": {
    "scrolled": true
   },
   "outputs": [
    {
     "data": {
      "text/plain": [
       "7"
      ]
     },
     "execution_count": 52,
     "metadata": {},
     "output_type": "execute_result"
    }
   ],
   "source": [
    "len(categorical_list)"
   ]
  },
  {
   "cell_type": "markdown",
   "metadata": {},
   "source": [
    "### Implement Pipelines.\n",
    "\n",
    "Use `pipelines` to clean up modelling code.\n",
    "\n",
    "**`Pipelines`**: are a simple way to keep your data preprocessing and modeling code organized. Specifically, a pipeline bundles preprocessing and modeling steps so you can use the whole bundle as if it were a single step.\n",
    "\n",
    "Many data scientists hack together models without pipelines, but pipelines have some important benefits. Those include:\n",
    "\n",
    "- **`Cleaner Code`**: Accounting for data at each step of preprocessing can get messy. With a pipeline, you won't need to manually keep track of your training and validation data at each step.\n",
    "- **`Fewer Bugs`**: There are fewer opportunities to misapply a step or forget a preprocessing step.\n",
    "- **`Easier to Productionize`**: It can be surprisingly hard to transition a model from a prototype to something deployable at scale. We won't go into the many related concerns here, but pipelines can help.\n",
    "- **`More Options for Model Validation`**: Easy to use cross-validation.\n",
    "\n",
    "We construct the full pipeline in three steps.\n",
    "\n",
    "**Define Preprocessing Steps**\n",
    "\n",
    "Similar to how a pipeline bundles together preprocessing and modeling steps, we use the `ColumnTransformer` class to bundle together different preprocessing steps. \n",
    "\n",
    "The code below:\n",
    "- imputes missing values in `numerical data`, and\n",
    "- imputes missing values and applies a `one-hot encoding` to `categorical data`."
   ]
  },
  {
   "cell_type": "code",
   "execution_count": 53,
   "metadata": {},
   "outputs": [],
   "source": [
    "from sklearn.compose import ColumnTransformer\n",
    "from sklearn.pipeline import Pipeline\n",
    "from sklearn.impute import SimpleImputer\n",
    "from sklearn.preprocessing import StandardScaler\n",
    "from sklearn.preprocessing import OneHotEncoder\n",
    "\n",
    "\n",
    "# Preprocessing for numerical data\n",
    "\n",
    "numerical_pipe = Pipeline([('scaler', StandardScaler()), ('imputer',SimpleImputer(strategy='mean'))])\n",
    "\n",
    "# Preprocessing for categorical data\n",
    "\n",
    "\n",
    "categorical_pipe = Pipeline([('imputer',SimpleImputer(strategy='most_frequent')),('onehot',OneHotEncoder(handle_unknown='ignore'))])\n",
    "\n",
    "# Bundle preprocessing for numerical and categorical data\n",
    "\n",
    "\n",
    "preprocessor = ColumnTransformer(transformers=[('num_trf',numerical_pipe,numeric_list),('cat_trf',categorical_pipe,categorical_list)])\n",
    "\n",
    "\n",
    "\n"
   ]
  },
  {
   "cell_type": "markdown",
   "metadata": {},
   "source": [
    "### Model building\n",
    "\n",
    "Build **`XGBoost`** Model.\n",
    "\n",
    "In this activity, we'll work with the `XGBoost` library. `XGBoost` stands for `extreme gradient boosting`, which is an implementation of `gradient boosting` with several additional features focused on performance and speed. \n",
    "\n",
    "(Scikit-learn has another version of gradient boosting, but `XGBoost` has some technical advantages.)\n",
    "\n",
    "In the code cell, we import the `scikit-learn` API for `XGBoost (xgboost.XGBClassifier)`. This allows us to build and fit a model just as we would in scikit-learn. \n",
    "\n",
    "The `XGBClassifier` class has many tunable parameters."
   ]
  },
  {
   "cell_type": "code",
   "execution_count": 54,
   "metadata": {
    "scrolled": true
   },
   "outputs": [],
   "source": [
    "#!pip install xgboost\n",
    "\n",
    "from xgboost import XGBClassifier\n",
    "\n",
    "xgb_model = XGBClassifier()"
   ]
  },
  {
   "cell_type": "code",
   "execution_count": 55,
   "metadata": {},
   "outputs": [
    {
     "name": "stdout",
     "output_type": "stream",
     "text": [
      "[21:05:11] WARNING: C:/Users/Administrator/workspace/xgboost-win64_release_1.3.0/src/learner.cc:1061: Starting in XGBoost 1.3.0, the default evaluation metric used with the objective 'multi:softprob' was changed from 'merror' to 'mlogloss'. Explicitly set eval_metric if you'd like to restore the old behavior.\n",
      "Train Accuracy: 1.0\n",
      "Train Confusion Matrix:               precision    recall  f1-score   support\n",
      "\n",
      "          FE       1.00      1.00      1.00      1300\n",
      "          UE       1.00      1.00      1.00      2419\n",
      "           W       1.00      1.00      1.00      1881\n",
      "\n",
      "    accuracy                           1.00      5600\n",
      "   macro avg       1.00      1.00      1.00      5600\n",
      "weighted avg       1.00      1.00      1.00      5600\n",
      "\n",
      "Test Accuracy: 0.8754685547688463\n",
      "Test Confusion Matrix:               precision    recall  f1-score   support\n",
      "\n",
      "          FE       0.77      0.77      0.77       518\n",
      "          UE       0.89      0.87      0.88      1082\n",
      "           W       0.93      0.95      0.94       801\n",
      "\n",
      "    accuracy                           0.88      2401\n",
      "   macro avg       0.86      0.86      0.86      2401\n",
      "weighted avg       0.87      0.88      0.88      2401\n",
      "\n",
      "Wall time: 2.43 s\n"
     ]
    }
   ],
   "source": [
    "%%time\n",
    "\n",
    "\n",
    "# Bundle preprocessing and modeling code in a pipeline\n",
    "\n",
    "xgb_pipeline = Pipeline(steps=[('preprocessor',preprocessor),('model',xgb_model)])\n",
    "\n",
    "# Preprocessing of training data, fit model \n",
    "\n",
    "\n",
    "xgb_pipeline.fit(X_train,y_train)\n",
    "\n",
    "\n",
    "# Preprocessing of training data, get predictions\n",
    "\n",
    "\n",
    "y_pred_train = xgb_pipeline.predict(X_train)\n",
    "\n",
    "# Evaluate the model - training\n",
    "\n",
    "print(\"Train Accuracy:\",accuracy_score(y_train,y_pred_train))\n",
    "\n",
    "\n",
    "print(\"Train Confusion Matrix:\",classification_report(y_train,y_pred_train))\n",
    "\n",
    "# Preprocessing of validation data, get predictions\n",
    "\n",
    "y_pred_test = xgb_pipeline.predict(X_test)\n",
    "\n",
    "\n",
    "# Evaluate the model - validation\n",
    "\n",
    "\n",
    "print(\"Test Accuracy:\",accuracy_score(y_test,y_pred_test))\n",
    "\n",
    "xgb_accuracy = accuracy_score(y_test,y_pred_test)\n",
    "\n",
    "print(\"Test Confusion Matrix:\",classification_report(y_test,y_pred_test))"
   ]
  },
  {
   "cell_type": "code",
   "execution_count": null,
   "metadata": {},
   "outputs": [],
   "source": [
    "%%time\n",
    "\n",
    "from sklearn.model_selection import GridSearchCV\n",
    "\n",
    "param_grid = {\n",
    "    \"model__n_estimators\": [10, 50, 100, 500],\n",
    "    \"model__learning_rate\": [0.05, 0.1, 0.5, 1],\n",
    "}\n",
    "\n",
    "searchCV = GridSearchCV(xgb_pipeline, \n",
    "                        cv=5, \n",
    "                        param_grid=param_grid)\n",
    "\n",
    "searchCV.fit(X_train, y_train)"
   ]
  },
  {
   "cell_type": "code",
   "execution_count": null,
   "metadata": {},
   "outputs": [],
   "source": [
    "searchCV.best_params_"
   ]
  },
  {
   "cell_type": "code",
   "execution_count": null,
   "metadata": {},
   "outputs": [],
   "source": [
    "searchCV.cv_results_['mean_test_score']"
   ]
  },
  {
   "cell_type": "code",
   "execution_count": null,
   "metadata": {},
   "outputs": [],
   "source": [
    "searchCV.cv_results_['mean_test_score'].mean()"
   ]
  },
  {
   "cell_type": "code",
   "execution_count": null,
   "metadata": {},
   "outputs": [],
   "source": [
    "xgb_grid_model = searchCV.best_estimator_"
   ]
  },
  {
   "cell_type": "code",
   "execution_count": null,
   "metadata": {},
   "outputs": [],
   "source": [
    "\n",
    "\n",
    "# Preprocessing of training data, get predictions\n",
    "y_pred_train = xgb_grid_model.predict(X_train)\n",
    "\n",
    "# Evaluate the model - training\n",
    "print(\"Train Accuracy:\",accuracy_score(y_train,y_pred_train))\n",
    "print(\"Train Classification report\\n\", classification_report(y_train,y_pred_train,digits=4))\n",
    "print(\"\\n\")\n",
    "\n",
    "# Preprocessing of validation data, get predictions\n",
    "y_pred_test = xgb_grid_model.predict(X_test)\n",
    "\n",
    "# Evaluate the model - validation\n",
    "print(\"Test Accuracy:\",accuracy_score(y_test,y_pred_test))\n",
    "print(\"Test Classification report\\n\", classification_report(y_test,y_pred_test,digits=4))"
   ]
  },
  {
   "cell_type": "markdown",
   "metadata": {},
   "source": [
    "## LightGBM\n",
    "LightGBM is a gradient boosting framework that uses tree based learning algorithms. It is designed to be distributed and efficient with the following advantages:\n",
    "- Faster training speed and higher efficiency.\n",
    "- Lower memory usage.\n",
    "- Better accuracy.\n",
    "- Support of parallel and GPU learning.\n",
    "- Capable of handling large-scale data."
   ]
  },
  {
   "cell_type": "code",
   "execution_count": 56,
   "metadata": {},
   "outputs": [
    {
     "name": "stdout",
     "output_type": "stream",
     "text": [
      "Wall time: 2.99 ms\n"
     ]
    }
   ],
   "source": [
    "%%time\n",
    "\n",
    "#!pip install lightgbm\n",
    "from lightgbm import LGBMClassifier\n",
    "\n",
    "\n",
    "lgbm_model = LGBMClassifier(n_estimators = 500,\n",
    "                            learning_rate = 0.05,\n",
    "                            n_jobs = 4,\n",
    "                            random_state = 2)\n",
    "\n",
    "\n",
    "# Bundle preprocessing and modeling code in a pipeline\n",
    "lgbm_pipeline = Pipeline(steps=[('preprocessor', preprocessor),\n",
    "                                ('model', lgbm_model)])"
   ]
  },
  {
   "cell_type": "code",
   "execution_count": 57,
   "metadata": {
    "scrolled": true
   },
   "outputs": [
    {
     "name": "stdout",
     "output_type": "stream",
     "text": [
      "Train Accuracy: 1.0\n",
      "Train Classification report\n",
      "               precision    recall  f1-score   support\n",
      "\n",
      "          FE     1.0000    1.0000    1.0000      1300\n",
      "          UE     1.0000    1.0000    1.0000      2419\n",
      "           W     1.0000    1.0000    1.0000      1881\n",
      "\n",
      "    accuracy                         1.0000      5600\n",
      "   macro avg     1.0000    1.0000    1.0000      5600\n",
      "weighted avg     1.0000    1.0000    1.0000      5600\n",
      "\n",
      "\n",
      "\n",
      "Test Accuracy: 0.8767180341524364\n",
      "Test Classification report\n",
      "               precision    recall  f1-score   support\n",
      "\n",
      "          FE     0.7685    0.7819    0.7751       518\n",
      "          UE     0.8871    0.8641    0.8755      1082\n",
      "           W     0.9329    0.9551    0.9439       801\n",
      "\n",
      "    accuracy                         0.8767      2401\n",
      "   macro avg     0.8628    0.8670    0.8648      2401\n",
      "weighted avg     0.8768    0.8767    0.8766      2401\n",
      "\n",
      "Wall time: 2.97 s\n"
     ]
    }
   ],
   "source": [
    "%%time\n",
    "# Preprocessing of training data, fit model \n",
    "lgbm_pipeline.fit(X_train, y_train)\n",
    "\n",
    "# Preprocessing of training data, get predictions\n",
    "y_pred_train = lgbm_pipeline.predict(X_train)\n",
    "\n",
    "# Evaluate the model - training\n",
    "print(\"Train Accuracy:\",accuracy_score(y_train,y_pred_train))\n",
    "print(\"Train Classification report\\n\", classification_report(y_train,y_pred_train,digits=4))\n",
    "print(\"\\n\")\n",
    "\n",
    "# Preprocessing of validation data, get predictions\n",
    "y_pred_test = lgbm_pipeline.predict(X_test)\n",
    "\n",
    "# Evaluate the model - validation\n",
    "print(\"Test Accuracy:\",accuracy_score(y_test,y_pred_test))\n",
    "\n",
    "\n",
    "lgb_accuracy = accuracy_score(y_test,y_pred_test)\n",
    "\n",
    "\n",
    "print(\"Test Classification report\\n\", classification_report(y_test,y_pred_test,digits=4))"
   ]
  },
  {
   "cell_type": "markdown",
   "metadata": {},
   "source": [
    "#### Combining the model results to one dataframe"
   ]
  },
  {
   "cell_type": "code",
   "execution_count": 67,
   "metadata": {},
   "outputs": [
    {
     "name": "stdout",
     "output_type": "stream",
     "text": [
      "{'Model 1 Accuracy': 0.8754685547688463, 'Model 2 Accuracy': 0.8767180341524364}\n"
     ]
    }
   ],
   "source": [
    "#Create a dictionary\n",
    "\n",
    "score_dict = {\"Model 1 Accuracy\":xgb_accuracy,\"Model 2 Accuracy\":lgb_accuracy}\n",
    "\n",
    "print(score_dict)"
   ]
  },
  {
   "cell_type": "code",
   "execution_count": 68,
   "metadata": {},
   "outputs": [],
   "source": [
    "#Convert to Dataframe\n",
    "\n",
    "#results_df = pd.DataFrame(score_dict,index=score_dict.keys())\n",
    "\n",
    "results_df = pd.DataFrame(score_dict,index=['XGB Model Accuracy','LGBM Model Accuracy'])"
   ]
  },
  {
   "cell_type": "code",
   "execution_count": 69,
   "metadata": {},
   "outputs": [
    {
     "data": {
      "text/html": [
       "<div>\n",
       "<style scoped>\n",
       "    .dataframe tbody tr th:only-of-type {\n",
       "        vertical-align: middle;\n",
       "    }\n",
       "\n",
       "    .dataframe tbody tr th {\n",
       "        vertical-align: top;\n",
       "    }\n",
       "\n",
       "    .dataframe thead th {\n",
       "        text-align: right;\n",
       "    }\n",
       "</style>\n",
       "<table border=\"1\" class=\"dataframe\">\n",
       "  <thead>\n",
       "    <tr style=\"text-align: right;\">\n",
       "      <th></th>\n",
       "      <th>Model 1 Accuracy</th>\n",
       "      <th>Model 2 Accuracy</th>\n",
       "    </tr>\n",
       "  </thead>\n",
       "  <tbody>\n",
       "    <tr>\n",
       "      <th>XGB Model Accuracy</th>\n",
       "      <td>0.875469</td>\n",
       "      <td>0.876718</td>\n",
       "    </tr>\n",
       "    <tr>\n",
       "      <th>LGBM Model Accuracy</th>\n",
       "      <td>0.875469</td>\n",
       "      <td>0.876718</td>\n",
       "    </tr>\n",
       "  </tbody>\n",
       "</table>\n",
       "</div>"
      ],
      "text/plain": [
       "                     Model 1 Accuracy  Model 2 Accuracy\n",
       "XGB Model Accuracy           0.875469          0.876718\n",
       "LGBM Model Accuracy          0.875469          0.876718"
      ]
     },
     "execution_count": 69,
     "metadata": {},
     "output_type": "execute_result"
    }
   ],
   "source": [
    "results_df"
   ]
  }
 ],
 "metadata": {
  "kernelspec": {
   "display_name": "Python 3 (ipykernel)",
   "language": "python",
   "name": "python3"
  },
  "language_info": {
   "codemirror_mode": {
    "name": "ipython",
    "version": 3
   },
   "file_extension": ".py",
   "mimetype": "text/x-python",
   "name": "python",
   "nbconvert_exporter": "python",
   "pygments_lexer": "ipython3",
   "version": "3.9.7"
  }
 },
 "nbformat": 4,
 "nbformat_minor": 2
}
